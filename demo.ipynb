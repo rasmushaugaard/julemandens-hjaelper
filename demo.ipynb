{
 "cells": [
  {
   "cell_type": "markdown",
   "id": "29d222ac",
   "metadata": {},
   "source": [
    "# Julemandens workshop\n",
    "\n",
    "Annotér nogle billeder og træn en model, så vi automatisk kan finde ud af, hvilke af de mange millioner gaver, vi stadig kan bruge efter indbruddet."
   ]
  },
  {
   "cell_type": "markdown",
   "id": "329bfb4b",
   "metadata": {},
   "source": [
    "## Opstart\n",
    "\n",
    "Det her dokument er en \"Notebook\".  \n",
    "Notebook'en består af celler med kode i. \n",
    "* Du kan aktivere en celle ved at trykke inde i cellen\n",
    "* DU kan køre en celle ved at aktivere den og trykke \"shift + enter\"\n",
    "\n",
    "Vi skal bruge de nedenstående celler.  \n",
    "Aktiver den første celle herunder og tryk \"shift + enter\".  \n",
    "Cellen går automatisk videre til den næste celle.  \n",
    "Tryk \"shift + enter\" igen for også at køre den."
   ]
  },
  {
   "cell_type": "code",
   "execution_count": null,
   "id": "c69f9182-34ba-47f1-9123-d04b5803f62c",
   "metadata": {
    "tags": []
   },
   "outputs": [],
   "source": [
    "%load_ext autoreload\n",
    "%autoreload 2\n",
    "%pip install -q requirements.txt"
   ]
  },
  {
   "cell_type": "code",
   "execution_count": null,
   "id": "4e9f25f6-0478-4a50-b80f-4874ca2e3fc6",
   "metadata": {
    "tags": []
   },
   "outputs": [],
   "source": [
    "import albumentations as A\n",
    "import utils\n",
    "import annoterer\n",
    "import træning"
   ]
  },
  {
   "cell_type": "markdown",
   "id": "8f2c4625",
   "metadata": {},
   "source": [
    "## Annoter Billeder\n",
    "\n",
    "Der er 500 billeder, du kan annotere, men start med 200.  \n",
    "Vi bruger 100 billeder til vores valideringssæt, så med 200 billeder totalt er der 100 billeder til træning.  \n",
    "Du kan altid komme tilbage og annotere flere ved at sætte \"antal_billeder\" op og køre cellen igen.\n",
    "Hvis du f.eks. annoterer 300 billeder, er der 200 til træning. \n",
    "\n",
    "Start med at køre cellen herunder og annotér 200 billeder:"
   ]
  },
  {
   "cell_type": "code",
   "execution_count": null,
   "id": "cb743895-72fd-4df7-a743-ccdc19090256",
   "metadata": {
    "tags": []
   },
   "outputs": [],
   "source": [
    "annoterer.annoter(antal_billeder=200)"
   ]
  },
  {
   "cell_type": "markdown",
   "id": "de1d1258",
   "metadata": {},
   "source": [
    "## Billedeaugmenteringer\n",
    "\n",
    "Med billedeaugmentering laver vi ændringer i billederne i vores træningsdata, uden at billedets label ændrer sig.  \n",
    "På den måde får vi mere data at træne på uden at skulle annotere flere billeder.\n",
    "\n",
    "Til at starte med kan du prøve uden annoteringer, men prøv at kom tilbage hertil, hvis du har problemer med overfitting.\n",
    "\n",
    "Du kan køre den nedenstående celle for at se, hvordan billederne ser ud med forskellige augmenteringer.  \n",
    "Prøv f.eks. at fjerne \"#\" i en af linjerne i cellen herunder og kør cellen igen:"
   ]
  },
  {
   "cell_type": "code",
   "execution_count": null,
   "id": "576677a8",
   "metadata": {},
   "outputs": [],
   "source": [
    "augmenteringer = [\n",
    "    #A.RandomResizedCrop(224, 224, scale=(0.5, 1)),\n",
    "    #A.ColorJitter(),   \n",
    "    #A.RandomRotate90(),\n",
    "    #A.Flip(),\n",
    "]\n",
    "utils.vis_augmenteringseksempler(augmenteringer)"
   ]
  },
  {
   "cell_type": "markdown",
   "id": "15f0d9a3",
   "metadata": {},
   "source": [
    "## Træn en model\n",
    "\n",
    "Kør den nedenstående celle for at træne din første model."
   ]
  },
  {
   "cell_type": "code",
   "execution_count": null,
   "id": "e13d4c3b",
   "metadata": {},
   "outputs": [],
   "source": [
    "model, version = træning.træn_model(\n",
    "    epoker=20, \n",
    "    start_fra_prætrænede_vægte=False,\n",
    "    augmenteringer=[],\n",
    "    antal_træningsbilleder=100,\n",
    "    model_størrelse='lille',\n",
    ")\n",
    "utils.plot_log(version)"
   ]
  },
  {
   "cell_type": "markdown",
   "id": "a3653100",
   "metadata": {},
   "source": [
    "Din model ser ud til at virke godt på dit træningsdata, men ikke særlig godt på dit valideringdata - et klart tegn på overfitting!  \n",
    "Hvis vi skal bruge modellen til at hjælpe med de mange millioner af gaver, er det vigtigt, at modellen også virker på data, modellen ikke er trænet på!\n",
    "\n",
    "Her er nogle ting, du kan eksperimentere med for at opnå en bedre model:\n",
    "\n",
    "* Prøv at starte fra en model, der er trænet på et andet på problem med mange flere billeder (sæt \"start_fra_prætrænede_vægte\" til \"True\")\n",
    "* Prøv at eksperimentér med data augmenteringer. (Du kan se eksempler på augmenteringer i en celle lidt højere oppe i dokumentet).\n",
    "* Prøv at annotere nogle flere billeder og sæt \"antal_træningsbilleder\" op.\n",
    "* Prøv forskellige modelstørrelser: \"lille\", \"mellem\" eller \"stor\".\n",
    "\n",
    "Du kan enten ændre direkte i cellen ovenover eller kopiere cellen til nye celler herunder, og køre dem."
   ]
  },
  {
   "cell_type": "code",
   "execution_count": null,
   "id": "14095bd5",
   "metadata": {},
   "outputs": [],
   "source": []
  }
 ],
 "metadata": {
  "kernelspec": {
   "display_name": "Python 3 (ipykernel)",
   "language": "python",
   "name": "python3"
  },
  "language_info": {
   "codemirror_mode": {
    "name": "ipython",
    "version": 3
   },
   "file_extension": ".py",
   "mimetype": "text/x-python",
   "name": "python",
   "nbconvert_exporter": "python",
   "pygments_lexer": "ipython3",
   "version": "3.9.12"
  }
 },
 "nbformat": 4,
 "nbformat_minor": 5
}
