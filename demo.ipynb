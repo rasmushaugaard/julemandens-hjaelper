{
 "cells": [
  {
   "cell_type": "markdown",
   "id": "29d222ac",
   "metadata": {},
   "source": [
    "# Julemanden har brug for din hjælp!"
   ]
  },
  {
   "cell_type": "markdown",
   "id": "329bfb4b",
   "metadata": {},
   "source": [
    "## Boilerplate"
   ]
  },
  {
   "cell_type": "code",
   "execution_count": null,
   "id": "c69f9182-34ba-47f1-9123-d04b5803f62c",
   "metadata": {
    "tags": []
   },
   "outputs": [],
   "source": [
    "%load_ext autoreload\n",
    "%autoreload 2\n",
    "%pip install -q pytorch_lightning einops\n",
    "# TODO: more dependencies below. Move to requirements.txt"
   ]
  },
  {
   "cell_type": "code",
   "execution_count": null,
   "id": "4e9f25f6-0478-4a50-b80f-4874ca2e3fc6",
   "metadata": {
    "tags": []
   },
   "outputs": [],
   "source": [
    "from pathlib import Path\n",
    "\n",
    "import albumentations as A\n",
    "import numpy as np\n",
    "import matplotlib.pyplot as plt\n",
    "from PIL import Image\n",
    "\n",
    "import config\n",
    "import utils\n",
    "from annoterer import Annoterer\n",
    "from training import træn_model\n",
    "from data import GaveDatasæt"
   ]
  },
  {
   "cell_type": "markdown",
   "id": "7611b373",
   "metadata": {},
   "source": [
    "## Den er gal i julemandens værksted!"
   ]
  },
  {
   "cell_type": "code",
   "execution_count": null,
   "id": "337e5403",
   "metadata": {},
   "outputs": [],
   "source": [
    "fig, axs = plt.subplots(1, 2, figsize=(8, 4))\n",
    "axs[0].imshow(Image.open('images_448/217ca0a5-3648-441e-9577-eaee74a27937.jpg'))\n",
    "axs[0].set_title('ok')\n",
    "axs[1].imshow(Image.open('images_448/f605b583-3523-469a-a9ef-e3306d4f1232.jpg'))\n",
    "axs[1].set_title('ikke ok')\n",
    "for ax in axs:\n",
    "    ax.axis('off')\n",
    "plt.tight_layout()"
   ]
  },
  {
   "cell_type": "code",
   "execution_count": null,
   "id": "cb743895-72fd-4df7-a743-ccdc19090256",
   "metadata": {
    "tags": []
   },
   "outputs": [],
   "source": [
    "annoterer = Annoterer(\n",
    "    debug=True,\n",
    ")\n",
    "display(annoterer.widget)"
   ]
  },
  {
   "cell_type": "code",
   "execution_count": null,
   "id": "e2307215",
   "metadata": {},
   "outputs": [],
   "source": [
    "img_fps = list(config.images_folder.glob('*.jpg'))\n",
    "img_fps = np.random.choice(img_fps, 20, replace=False)\n",
    "images = [Image.open(fp) for fp in img_fps]\n",
    "\n",
    "fig, axs = plt.subplots(2, 5, figsize=(10, 4))\n",
    "for ax, img in zip(axs.reshape(-1), images):\n",
    "    ax.imshow(img)\n",
    "    ax.axis('off')\n",
    "plt.tight_layout(pad=0.5)"
   ]
  },
  {
   "cell_type": "code",
   "execution_count": null,
   "id": "576677a8",
   "metadata": {},
   "outputs": [],
   "source": [
    "# Vis eksempler fra det datasæt, vi vil træne vores model på:\n",
    "augmenteringer = [\n",
    "    #A.RandomResizedCrop(224, 224, scale=(0.5, 1)),\n",
    "    #A.ColorJitter(),    \n",
    "]\n",
    "\n",
    "dataset = GaveDatasæt(utils.load_annotations(), augs=augmenteringer)\n",
    "fig, axs = plt.subplots(2, 5, figsize=(12, 5))\n",
    "idxs = np.random.permutation(len(dataset))\n",
    "for i, ax in zip(idxs, axs.reshape(-1)):\n",
    "    img, ok = dataset[i]\n",
    "    ax.imshow(Image.fromarray(dataset.denormalize(img)))\n",
    "    ax.axis('off')\n",
    "    ax.set_title('ok' if ok else 'ikke ok')\n"
   ]
  },
  {
   "cell_type": "code",
   "execution_count": null,
   "id": "4d090d41",
   "metadata": {},
   "outputs": [],
   "source": []
  },
  {
   "cell_type": "code",
   "execution_count": null,
   "id": "e13d4c3b",
   "metadata": {},
   "outputs": [],
   "source": [
    "model, version = træn_model(\n",
    "    epochs=20, lr=1e-4, \n",
    "    start_fra_prætrænede_vægte=False,\n",
    "    frys_backbone=False,\n",
    "    augmenteringer=[], \n",
    "    n_train=100, n_val=100,\n",
    ")\n",
    "plot_log(version)"
   ]
  },
  {
   "cell_type": "code",
   "execution_count": null,
   "id": "c382e7b7",
   "metadata": {},
   "outputs": [],
   "source": []
  }
 ],
 "metadata": {
  "kernelspec": {
   "display_name": "Python 3 (ipykernel)",
   "language": "python",
   "name": "python3"
  },
  "language_info": {
   "codemirror_mode": {
    "name": "ipython",
    "version": 3
   },
   "file_extension": ".py",
   "mimetype": "text/x-python",
   "name": "python",
   "nbconvert_exporter": "python",
   "pygments_lexer": "ipython3",
   "version": "3.9.12"
  }
 },
 "nbformat": 4,
 "nbformat_minor": 5
}
